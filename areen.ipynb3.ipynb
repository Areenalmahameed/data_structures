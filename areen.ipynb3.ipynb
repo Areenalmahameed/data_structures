{
  "cells": [
    {
      "cell_type": "markdown",
      "metadata": {},
      "source": []
    },
    {
      "cell_type": "markdown",
      "metadata": {
        "id": "Im6C6hMpIAh_"
      },
      "source": [
        "# Python Basics II Exercises\n",
        "\n",
        "\n",
        "## EX 1 - Data Structures\n",
        "\n",
        "**Strings**:\n",
        "   1. Write a function to count the number of vowels in a given string.\n",
        "   2. Write a function that takes a string and returns the same string but with every second letter capitalized.\n",
        "\n",
        "**List**:\n",
        "   3. Write a function that takes a list of numbers and returns a new list containing only the even numbers.\n",
        "   4. Write a function that takes a list and returns a new list with duplicate values removed.\n",
        "\n",
        "**Set**:\n",
        "   5. Write a function that takes two sets and returns their intersection as a new set.\n",
        "   6. Write a function that takes two sets and returns their union as a new set.\n",
        "\n",
        "**Tuple**:\n",
        "   7. Write a function that takes a list of tuples and sorts them based on the second element of each tuple.\n",
        "   8. Write a function that takes a tuple and returns a reversed version of that tuple.\n",
        "\n",
        "**Dictionary**:\n",
        "   9. Write a function that takes a dictionary and returns the keys and values as separate lists.\n",
        "   10. Write a function that takes a dictionary and a key, and if the key exists in the dictionary, return its value. If the key does not exist, return a default value.\n",
        "\n",
        "## EX 2 - Conditional Statements, Loops, and Functions\n",
        "\n",
        "**Task 1:** Write a program that takes two numbers as inputs from the user and prints their sum.\n",
        "\n",
        "**Task 2:** Write a program that takes an integer input from the user. Use a `for` loop to print all numbers from that integer down to 0.\n",
        "\n",
        "**Task 3:** Write a program that takes an integer input from the user. Use a `while` loop to keep doubling the number until it is greater than 1000, then print the result.\n",
        "\n",
        "**Task 4:** Write a function that takes a number as input and returns the square of the number. Use it in a program that takes an input from the user and prints the square.\n",
        "\n",
        "**Task 5:** Write a program that takes a number as input from the user. If the number is greater than 10, print \"Big number\". If the number is less than or equal to 10, print \"Small number\".\n",
        "\n",
        "**Task 6:** Write a function that takes two numbers as inputs and returns their product. Use this function in a program that takes two inputs from the user and prints the product.\n",
        "\n",
        "**Task 7:** Write a program that uses a `while` loop to take a number as input from the user, subtract 5, and print the result. Continue this until the result is less than 0.\n",
        "\n",
        "**Task 8:** Write a program that uses a `for` loop to take an integer input from the user and print the factorial of that number.\n",
        "\n",
        "**Task 9:** Write a program that takes a number as input from the user. If the number is positive, print \"Positive\". If the number is negative, print \"Negative\". If the number is zero, print \"Zero\".\n",
        "\n",
        "**Task 10:** Write a lambda function that takes two numbers as inputs and returns their division as a floating-point number. Use this function in a program that takes two inputs from the user and prints the division.\n",
        "\n",
        "***\n",
        "\n",
        "**P.S. ALL CODE MUST BE CLEAN, READABLE, WELL EXPLAINED, AND FOLLOWS THE PEP 8 STYLE GUIDE.**\n",
        "\n",
        "Happy coding!!"
      ]
    },
    {
      "cell_type": "code",
      "execution_count": null,
      "metadata": {},
      "outputs": [],
      "source": []
    },
    {
      "cell_type": "code",
      "execution_count": 2,
      "metadata": {},
      "outputs": [
        {
          "name": "stdout",
          "output_type": "stream",
          "text": [
            "6\n"
          ]
        }
      ],
      "source": [
        "string =input(\"enter  the string \")\n",
        "def  count(c):\n",
        "    c_nospas=c.replace(\" \",\"\")\n",
        "    return  len(c_nospas)\n",
        "print(count(string))"
      ]
    },
    {
      "cell_type": "code",
      "execution_count": null,
      "metadata": {},
      "outputs": [],
      "source": []
    },
    {
      "cell_type": "code",
      "execution_count": 3,
      "metadata": {
        "id": "TrvnuxuZIMXC"
      },
      "outputs": [
        {
          "name": "stdout",
          "output_type": "stream",
          "text": [
            "R\n"
          ]
        }
      ],
      "source": [
        "string=input(\"enter \")\n",
        "def  letter_capitalized():\n",
        "   string2= string[1].upper()\n",
        "   return  string2\n",
        "print (letter_capitalized())"
      ]
    },
    {
      "cell_type": "code",
      "execution_count": 7,
      "metadata": {},
      "outputs": [
        {
          "name": "stdout",
          "output_type": "stream",
          "text": [
            "[2, 4, 6]\n"
          ]
        }
      ],
      "source": [
        "n=int (input(\"enter the element :\"))\n",
        "numper=[]\n",
        "numper2=[]\n",
        "\n",
        "for i in  range(n):\n",
        "    num =int (input(f\"enter the numper {i+1}\"))\n",
        "    numper.append(num)\n",
        "    if  num%2==0:\n",
        "        numper2.append(num)\n",
        "print(numper2)"
      ]
    },
    {
      "cell_type": "code",
      "execution_count": 10,
      "metadata": {},
      "outputs": [
        {
          "name": "stdout",
          "output_type": "stream",
          "text": [
            "[3, 4, 54, 55]\n"
          ]
        }
      ],
      "source": [
        "n=int (input(\"enter the element :\"))\n",
        "numper=[]\n",
        "numper2=[]\n",
        "\n",
        "for i in  range(n):\n",
        "    num =int (input(f\"enter the numper {i+1}\"))\n",
        "    numper.append(num)\n",
        "   \n",
        "print(list(set(numper)))"
      ]
    },
    {
      "cell_type": "code",
      "execution_count": 14,
      "metadata": {},
      "outputs": [
        {
          "name": "stdout",
          "output_type": "stream",
          "text": [
            "{1, 2, 3, 4, 5, 77}\n"
          ]
        }
      ],
      "source": [
        "\n",
        "set1={1,2,3,4}\n",
        "set2={2,3,4,77,5}\n",
        "\n",
        "def uion_set (set1,set2):\n",
        "      return set1.union(set2)\n",
        "\n",
        "\n",
        "print(uion_set(set1,set2))\n",
        "\n"
      ]
    },
    {
      "cell_type": "code",
      "execution_count": 15,
      "metadata": {},
      "outputs": [
        {
          "name": "stdout",
          "output_type": "stream",
          "text": [
            "{2, 3, 4}\n"
          ]
        }
      ],
      "source": [
        "set1={1,2,3,4}\n",
        "set2={2,3,4,77,5}\n",
        "\n",
        "def uion_set (set1,set2):\n",
        "      return set1.intersection(set2)\n",
        "\n",
        "\n",
        "print(uion_set(set1,set2))\n"
      ]
    },
    {
      "cell_type": "code",
      "execution_count": 25,
      "metadata": {},
      "outputs": [
        {
          "name": "stdout",
          "output_type": "stream",
          "text": [
            "[(1, 2), (4, 3), (33, 4)]\n"
          ]
        }
      ],
      "source": [
        "\n",
        "a=[(1,2),(4,3),(33,4)]\n",
        "def sort_tuply(a):\n",
        " a.sort(key= lambda x:x[1])\n",
        " return a\n",
        "print(sort_tuply(a))\n"
      ]
    },
    {
      "cell_type": "code",
      "execution_count": 6,
      "metadata": {},
      "outputs": [
        {
          "name": "stdout",
          "output_type": "stream",
          "text": [
            "[2, 3, 4, 5, 6]\n",
            "[6, 5, 4, 3, 2]\n"
          ]
        }
      ],
      "source": [
        "n=int (input(\"enter\"))\n",
        "a=[]\n",
        "for i in  range (n):\n",
        "    num =int (input(f\"enter the numper{i+1}\"))\n",
        "    a.append(num)\n",
        "print (a)\n",
        "a.reverse()\n",
        "print (a)\n"
      ]
    },
    {
      "cell_type": "code",
      "execution_count": 23,
      "metadata": {},
      "outputs": [
        {
          "name": "stdout",
          "output_type": "stream",
          "text": [
            "{'name': 'areen', 'age': 20}\n"
          ]
        }
      ],
      "source": [
        "dic={\"name\": \"areen\", \"age\":20}\n",
        "def dicc(dic):\n",
        "    return dic\n",
        "print(dicc(dic))"
      ]
    },
    {
      "cell_type": "code",
      "execution_count": 32,
      "metadata": {},
      "outputs": [
        {
          "name": "stdout",
          "output_type": "stream",
          "text": [
            "(['name', 'age'], ['areen', 20])\n"
          ]
        }
      ],
      "source": [
        "dic={\"name\": \"areen\", \"age\":20}\n",
        "dic.values\n",
        "def dicc(dic):\n",
        "    key= list(dic .keys())\n",
        "    valye= list(dic.values())\n",
        "    return  key, valye\n",
        "print(dicc(dic))"
      ]
    },
    {
      "cell_type": "code",
      "execution_count": 39,
      "metadata": {},
      "outputs": [
        {
          "name": "stdout",
          "output_type": "stream",
          "text": [
            "areen\n"
          ]
        }
      ],
      "source": [
        "dic={\"name\": \"areen\", \"age\":20}\n",
        "\n",
        "def dicc(dic,key):\n",
        "     if key in dic:\n",
        "         return (dic[key])\n",
        "print(dicc(dic,\"name\"))"
      ]
    },
    {
      "cell_type": "code",
      "execution_count": null,
      "metadata": {},
      "outputs": [
        {
          "name": "stdout",
          "output_type": "stream",
          "text": [
            "the sum numper5\n"
          ]
        }
      ],
      "source": [
        "numper1=int (input(\"enter the numper\"))\n",
        "numper2=int (input(\"enter the numper\"))\n",
        "print(f\"the sum numper   {numper1+numper2}\")"
      ]
    },
    {
      "cell_type": "code",
      "execution_count": null,
      "metadata": {},
      "outputs": [
        {
          "name": "stdout",
          "output_type": "stream",
          "text": [
            "4\n",
            "3\n",
            "2\n",
            "1\n",
            "0\n"
          ]
        }
      ],
      "source": [
        "# num=int(input(\"enter\"))\n",
        "# for i in range(num,-1,-1):\n",
        "#     print(i)"
      ]
    },
    {
      "cell_type": "code",
      "execution_count": 53,
      "metadata": {},
      "outputs": [
        {
          "name": "stdout",
          "output_type": "stream",
          "text": [
            "6\n",
            "5\n",
            "4\n",
            "3\n",
            "2\n",
            "1\n",
            "0\n"
          ]
        }
      ],
      "source": [
        "num = int(input(\"Enter a number: \"))\n",
        "\n",
        "while num >= 0:\n",
        "    print(num)\n",
        "    num -= 1  \n"
      ]
    },
    {
      "cell_type": "code",
      "execution_count": 63,
      "metadata": {},
      "outputs": [
        {
          "name": "stdout",
          "output_type": "stream",
          "text": [
            "14\n",
            "28\n",
            "56\n",
            "112\n",
            "224\n",
            "448\n",
            "896\n",
            "1792\n"
          ]
        }
      ],
      "source": [
        "num=int(input(\"enter tthe num\"))\n",
        "while num<=1000:\n",
        "     num=num*2\n",
        "     print(num)\n",
        "     "
      ]
    },
    {
      "cell_type": "code",
      "execution_count": 66,
      "metadata": {},
      "outputs": [
        {
          "name": "stdout",
          "output_type": "stream",
          "text": [
            "71\n",
            "64\n",
            "57\n",
            "50\n",
            "43\n",
            "36\n",
            "29\n",
            "22\n",
            "15\n",
            "8\n",
            "1\n",
            "-6\n"
          ]
        }
      ],
      "source": [
        "num=int(input(\"enter tthe num\"))\n",
        "while num >=0:\n",
        "    num =num-7\n",
        "    print(num)"
      ]
    },
    {
      "cell_type": "code",
      "execution_count": 68,
      "metadata": {},
      "outputs": [
        {
          "name": "stdout",
          "output_type": "stream",
          "text": [
            "15\n",
            "20\n",
            "25\n",
            "30\n",
            "35\n",
            "40\n",
            "45\n",
            "50\n",
            "55\n"
          ]
        }
      ],
      "source": [
        "num=int(input(\"enter tthe num\"))\n",
        "while num <=50:\n",
        "    num=num+5\n",
        "    print(num)\n",
        " "
      ]
    },
    {
      "cell_type": "code",
      "execution_count": 78,
      "metadata": {},
      "outputs": [
        {
          "name": "stdout",
          "output_type": "stream",
          "text": [
            "8\n",
            "16\n",
            "32\n",
            "64\n",
            "128\n"
          ]
        }
      ],
      "source": [
        "\n",
        "num=int(input(\"enter tthe num\")) \n",
        "while  num <100:\n",
        "    if num %2!=0:\n",
        "        num =num +3\n",
        "    else :\n",
        "        num =num *2\n",
        "    print(num)"
      ]
    },
    {
      "cell_type": "code",
      "execution_count": 82,
      "metadata": {},
      "outputs": [
        {
          "name": "stdout",
          "output_type": "stream",
          "text": [
            "3\n"
          ]
        }
      ],
      "source": [
        "\n",
        "num=int(input(\"enter tthe num\")) \n",
        "count=0\n",
        "while  num>=1:\n",
        "  num= num /2\n",
        "\n",
        "  count=count+1\n",
        "print(count)\n",
        "\n"
      ]
    },
    {
      "cell_type": "code",
      "execution_count": 93,
      "metadata": {},
      "outputs": [
        {
          "name": "stdout",
          "output_type": "stream",
          "text": [
            "1156\n"
          ]
        }
      ],
      "source": [
        "#TASK 4\n",
        "num =int (input (\"ennter  the numper \"))\n",
        "def square_num(num):\n",
        "      num=num * num\n",
        "      return num\n",
        "print(square_num(num))"
      ]
    },
    {
      "cell_type": "code",
      "execution_count": null,
      "metadata": {},
      "outputs": [
        {
          "name": "stdout",
          "output_type": "stream",
          "text": [
            "small numper\n"
          ]
        }
      ],
      "source": [
        "# Task 5\n",
        "num =int (input (\"ennter  the numper \"))\n",
        "if  num> 10:\n",
        "    print(\"big numper\")\n",
        "else:\n",
        "    print(\"small numper\")"
      ]
    },
    {
      "cell_type": "code",
      "execution_count": null,
      "metadata": {},
      "outputs": [
        {
          "name": "stdout",
          "output_type": "stream",
          "text": [
            "12\n"
          ]
        }
      ],
      "source": [
        "# task 6\n",
        "num1 =int (input (\"ennter  the numper \")) \n",
        "num2=int (input (\"ennter  the numper \"))\n",
        "def  product(num1,num2):\n",
        "    num = num1* num2\n",
        "    return num\n",
        "print(product(num1,num2))\n",
        "\n"
      ]
    },
    {
      "cell_type": "code",
      "execution_count": 6,
      "metadata": {},
      "outputs": [
        {
          "name": "stdout",
          "output_type": "stream",
          "text": [
            "28\n",
            "23\n",
            "18\n",
            "13\n",
            "8\n",
            "3\n",
            "-2\n"
          ]
        }
      ],
      "source": [
        "#task7 \n",
        "\n",
        "num1 =int (input (\"ennter  the numper \")) \n",
        "while num1 >=0:\n",
        "    num1=num1-5\n",
        "    print(num1)     \n"
      ]
    },
    {
      "cell_type": "code",
      "execution_count": 7,
      "metadata": {},
      "outputs": [
        {
          "name": "stdout",
          "output_type": "stream",
          "text": [
            "The factorial of 5 is: 120\n"
          ]
        }
      ],
      "source": [
        "# task8\n",
        "factorial = 1 \n",
        "num =int (input (\"ennter  the numper \")) \n",
        "for i in  range(1,num+1):\n",
        "    factorial *=i\n",
        "print(f\"The factorial of {num} is: {factorial}\")\n",
        "\n"
      ]
    },
    {
      "cell_type": "code",
      "execution_count": null,
      "metadata": {},
      "outputs": [
        {
          "name": "stdout",
          "output_type": "stream",
          "text": [
            "zerro\n"
          ]
        }
      ],
      "source": [
        "# task 9\n",
        "num =int (input (\"ennter  the numper \")) \n",
        "if num > 0:\n",
        "    print(\"pstive\")\n",
        "elif num <0 :\n",
        "    print(\"negtive\")\n",
        "else:\n",
        "    print(\"zerro\")\n"
      ]
    },
    {
      "cell_type": "code",
      "execution_count": 10,
      "metadata": {},
      "outputs": [
        {
          "name": "stdout",
          "output_type": "stream",
          "text": [
            "0.36363636363636365\n"
          ]
        }
      ],
      "source": [
        "num1 =int (input (\"ennter  the numper \")) \n",
        "numper2 =int (input (\"ennter  the numper \")) \n",
        "\n",
        "def fiot(num1,numper2):\n",
        "    s=num1/numper2\n",
        "    return s\n",
        "print(fiot(num1,numper2))"
      ]
    },
    {
      "cell_type": "code",
      "execution_count": null,
      "metadata": {},
      "outputs": [
        {
          "name": "stdout",
          "output_type": "stream",
          "text": [
            "Division result: 2.0\n"
          ]
        }
      ],
      "source": [
        "#Task10\n",
        "num1 = int(input(\"Enter the first number: \"))\n",
        "num2 = int(input(\"Enter the second number: \"))\n",
        "\n",
        "\n",
        "fiot = lambda num1, num2: num1 / num2\n",
        "\n",
        "print(\"Division result:\", fiot(num1, num2))\n"
      ]
    }
  ],
  "metadata": {
    "colab": {
      "provenance": []
    },
    "kernelspec": {
      "display_name": "base",
      "language": "python",
      "name": "python3"
    },
    "language_info": {
      "codemirror_mode": {
        "name": "ipython",
        "version": 3
      },
      "file_extension": ".py",
      "mimetype": "text/x-python",
      "name": "python",
      "nbconvert_exporter": "python",
      "pygments_lexer": "ipython3",
      "version": "3.12.4"
    }
  },
  "nbformat": 4,
  "nbformat_minor": 0
}
